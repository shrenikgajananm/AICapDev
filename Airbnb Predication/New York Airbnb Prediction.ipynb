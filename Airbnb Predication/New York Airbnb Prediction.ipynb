{
 "cells": [
  {
   "cell_type": "markdown",
   "id": "569deb62-aa98-4941-a552-7d1039e484d3",
   "metadata": {},
   "source": [
    "## Pre-processing"
   ]
  },
  {
   "cell_type": "code",
   "execution_count": 697,
   "id": "6f2d23cd-194d-471d-8cae-faf5965c4480",
   "metadata": {},
   "outputs": [],
   "source": [
    "import pandas as pd \n",
    "import numpy as np\n",
    "from sklearn.model_selection import train_test_split\n",
    "from sklearn.linear_model import LinearRegression\n",
    "from sklearn.metrics import mean_squared_error\n",
    "from sklearn.metrics import mean_absolute_error\n",
    "from math import sqrt\n",
    "from sklearn.metrics import r2_score\n",
    "from sklearn.cluster import KMeans\n",
    "from geopy.distance import geodesic"
   ]
  },
  {
   "cell_type": "code",
   "execution_count": 189,
   "id": "eaac10b4-e565-4b02-9d2c-0ea1c6f04b7d",
   "metadata": {},
   "outputs": [],
   "source": [
    "airbnb_data = pd.read_csv(\"listings.csv\")"
   ]
  },
  {
   "cell_type": "code",
   "execution_count": 190,
   "id": "02f9502f-749e-4bf2-b6a7-3ae601c14e31",
   "metadata": {},
   "outputs": [
    {
     "name": "stdout",
     "output_type": "stream",
     "text": [
      "<class 'pandas.core.frame.DataFrame'>\n",
      "RangeIndex: 37784 entries, 0 to 37783\n",
      "Data columns (total 75 columns):\n",
      " #   Column                                        Non-Null Count  Dtype  \n",
      "---  ------                                        --------------  -----  \n",
      " 0   id                                            37784 non-null  int64  \n",
      " 1   listing_url                                   37784 non-null  object \n",
      " 2   scrape_id                                     37784 non-null  int64  \n",
      " 3   last_scraped                                  37784 non-null  object \n",
      " 4   source                                        37784 non-null  object \n",
      " 5   name                                          37782 non-null  object \n",
      " 6   description                                   36811 non-null  object \n",
      " 7   neighborhood_overview                         20607 non-null  object \n",
      " 8   picture_url                                   37783 non-null  object \n",
      " 9   host_id                                       37784 non-null  int64  \n",
      " 10  host_url                                      37784 non-null  object \n",
      " 11  host_name                                     37778 non-null  object \n",
      " 12  host_since                                    37778 non-null  object \n",
      " 13  host_location                                 29742 non-null  object \n",
      " 14  host_about                                    21612 non-null  object \n",
      " 15  host_response_time                            22199 non-null  object \n",
      " 16  host_response_rate                            22199 non-null  object \n",
      " 17  host_acceptance_rate                          22912 non-null  object \n",
      " 18  host_is_superhost                             37363 non-null  object \n",
      " 19  host_thumbnail_url                            37778 non-null  object \n",
      " 20  host_picture_url                              37778 non-null  object \n",
      " 21  host_neighbourhood                            30205 non-null  object \n",
      " 22  host_listings_count                           37778 non-null  float64\n",
      " 23  host_total_listings_count                     37778 non-null  float64\n",
      " 24  host_verifications                            37778 non-null  object \n",
      " 25  host_has_profile_pic                          37778 non-null  object \n",
      " 26  host_identity_verified                        37778 non-null  object \n",
      " 27  neighbourhood                                 20608 non-null  object \n",
      " 28  neighbourhood_cleansed                        37784 non-null  object \n",
      " 29  neighbourhood_group_cleansed                  37784 non-null  object \n",
      " 30  latitude                                      37784 non-null  float64\n",
      " 31  longitude                                     37784 non-null  float64\n",
      " 32  property_type                                 37784 non-null  object \n",
      " 33  room_type                                     37784 non-null  object \n",
      " 34  accommodates                                  37784 non-null  int64  \n",
      " 35  bathrooms                                     22985 non-null  float64\n",
      " 36  bathrooms_text                                37752 non-null  object \n",
      " 37  bedrooms                                      31975 non-null  float64\n",
      " 38  beds                                          22850 non-null  float64\n",
      " 39  amenities                                     37784 non-null  object \n",
      " 40  price                                         22969 non-null  object \n",
      " 41  minimum_nights                                37784 non-null  int64  \n",
      " 42  maximum_nights                                37784 non-null  int64  \n",
      " 43  minimum_minimum_nights                        37782 non-null  float64\n",
      " 44  maximum_minimum_nights                        37782 non-null  float64\n",
      " 45  minimum_maximum_nights                        37782 non-null  float64\n",
      " 46  maximum_maximum_nights                        37782 non-null  float64\n",
      " 47  minimum_nights_avg_ntm                        37782 non-null  float64\n",
      " 48  maximum_nights_avg_ntm                        37782 non-null  float64\n",
      " 49  calendar_updated                              0 non-null      float64\n",
      " 50  has_availability                              32500 non-null  object \n",
      " 51  availability_30                               37784 non-null  int64  \n",
      " 52  availability_60                               37784 non-null  int64  \n",
      " 53  availability_90                               37784 non-null  int64  \n",
      " 54  availability_365                              37784 non-null  int64  \n",
      " 55  calendar_last_scraped                         37784 non-null  object \n",
      " 56  number_of_reviews                             37784 non-null  int64  \n",
      " 57  number_of_reviews_ltm                         37784 non-null  int64  \n",
      " 58  number_of_reviews_l30d                        37784 non-null  int64  \n",
      " 59  first_review                                  25892 non-null  object \n",
      " 60  last_review                                   25892 non-null  object \n",
      " 61  review_scores_rating                          25892 non-null  float64\n",
      " 62  review_scores_accuracy                        25880 non-null  float64\n",
      " 63  review_scores_cleanliness                     25890 non-null  float64\n",
      " 64  review_scores_checkin                         25876 non-null  float64\n",
      " 65  review_scores_communication                   25885 non-null  float64\n",
      " 66  review_scores_location                        25873 non-null  float64\n",
      " 67  review_scores_value                           25874 non-null  float64\n",
      " 68  license                                       5386 non-null   object \n",
      " 69  instant_bookable                              37784 non-null  object \n",
      " 70  calculated_host_listings_count                37784 non-null  int64  \n",
      " 71  calculated_host_listings_count_entire_homes   37784 non-null  int64  \n",
      " 72  calculated_host_listings_count_private_rooms  37784 non-null  int64  \n",
      " 73  calculated_host_listings_count_shared_rooms   37784 non-null  int64  \n",
      " 74  reviews_per_month                             25892 non-null  float64\n",
      "dtypes: float64(22), int64(17), object(36)\n",
      "memory usage: 21.6+ MB\n"
     ]
    }
   ],
   "source": [
    "airbnb_data.info()"
   ]
  },
  {
   "cell_type": "code",
   "execution_count": 191,
   "id": "4071a4a2-f912-418e-a333-99e85c5bd7d7",
   "metadata": {},
   "outputs": [],
   "source": [
    "selected_features = ['host_response_rate', 'host_listings_count', 'host_acceptance_rate', 'host_is_superhost', 'host_has_profile_pic',\n",
    "                     'host_total_listings_count', 'host_identity_verified', 'neighbourhood_cleansed', 'neighbourhood_group_cleansed',\n",
    "                     'latitude', 'longitude', 'property_type', 'room_type', 'accommodates', 'bedrooms', 'beds', 'amenities', 'price',\n",
    "                     'bathrooms', 'minimum_nights', 'availability_30', 'maximum_nights', 'has_availability', 'availability_60',\n",
    "                     'availability_90', 'availability_365', 'number_of_reviews', 'number_of_reviews_ltm', 'number_of_reviews_l30d',\n",
    "                     'first_review', 'last_review', 'review_scores_rating', 'review_scores_accuracy', 'review_scores_cleanliness',\n",
    "                     'review_scores_checkin', 'review_scores_communication', 'review_scores_location','review_scores_value',\n",
    "                     'instant_bookable', 'calculated_host_listings_count', 'calculated_host_listings_count_entire_homes',\n",
    "                     'calculated_host_listings_count_private_rooms', 'calculated_host_listings_count_shared_rooms', 'reviews_per_month']\n",
    "\n",
    "airbnb_selected_data = airbnb_data[selected_features]\n",
    "airbnb_selected_data = airbnb_selected_data.dropna(subset=['price'])\n",
    "airbnb_selected_data['price'] = airbnb_selected_data['price'].str.replace(r'[$,]', '', regex=True).astype(float)"
   ]
  },
  {
   "cell_type": "code",
   "execution_count": 192,
   "id": "b25e65d1-d214-4cab-93c7-e4e67864062f",
   "metadata": {},
   "outputs": [
    {
     "name": "stdout",
     "output_type": "stream",
     "text": [
      "<class 'pandas.core.frame.DataFrame'>\n",
      "Index: 22969 entries, 0 to 37783\n",
      "Data columns (total 44 columns):\n",
      " #   Column                                        Non-Null Count  Dtype  \n",
      "---  ------                                        --------------  -----  \n",
      " 0   host_response_rate                            19030 non-null  object \n",
      " 1   host_listings_count                           22968 non-null  float64\n",
      " 2   host_acceptance_rate                          19409 non-null  object \n",
      " 3   host_is_superhost                             22635 non-null  object \n",
      " 4   host_has_profile_pic                          22968 non-null  object \n",
      " 5   host_total_listings_count                     22968 non-null  float64\n",
      " 6   host_identity_verified                        22968 non-null  object \n",
      " 7   neighbourhood_cleansed                        22969 non-null  object \n",
      " 8   neighbourhood_group_cleansed                  22969 non-null  object \n",
      " 9   latitude                                      22969 non-null  float64\n",
      " 10  longitude                                     22969 non-null  float64\n",
      " 11  property_type                                 22969 non-null  object \n",
      " 12  room_type                                     22969 non-null  object \n",
      " 13  accommodates                                  22969 non-null  int64  \n",
      " 14  bedrooms                                      22936 non-null  float64\n",
      " 15  beds                                          22827 non-null  float64\n",
      " 16  amenities                                     22969 non-null  object \n",
      " 17  price                                         22969 non-null  float64\n",
      " 18  bathrooms                                     22962 non-null  float64\n",
      " 19  minimum_nights                                22969 non-null  int64  \n",
      " 20  availability_30                               22969 non-null  int64  \n",
      " 21  maximum_nights                                22969 non-null  int64  \n",
      " 22  has_availability                              22756 non-null  object \n",
      " 23  availability_60                               22969 non-null  int64  \n",
      " 24  availability_90                               22969 non-null  int64  \n",
      " 25  availability_365                              22969 non-null  int64  \n",
      " 26  number_of_reviews                             22969 non-null  int64  \n",
      " 27  number_of_reviews_ltm                         22969 non-null  int64  \n",
      " 28  number_of_reviews_l30d                        22969 non-null  int64  \n",
      " 29  first_review                                  15917 non-null  object \n",
      " 30  last_review                                   15917 non-null  object \n",
      " 31  review_scores_rating                          15917 non-null  float64\n",
      " 32  review_scores_accuracy                        15916 non-null  float64\n",
      " 33  review_scores_cleanliness                     15916 non-null  float64\n",
      " 34  review_scores_checkin                         15916 non-null  float64\n",
      " 35  review_scores_communication                   15916 non-null  float64\n",
      " 36  review_scores_location                        15915 non-null  float64\n",
      " 37  review_scores_value                           15916 non-null  float64\n",
      " 38  instant_bookable                              22969 non-null  object \n",
      " 39  calculated_host_listings_count                22969 non-null  int64  \n",
      " 40  calculated_host_listings_count_entire_homes   22969 non-null  int64  \n",
      " 41  calculated_host_listings_count_private_rooms  22969 non-null  int64  \n",
      " 42  calculated_host_listings_count_shared_rooms   22969 non-null  int64  \n",
      " 43  reviews_per_month                             15917 non-null  float64\n",
      "dtypes: float64(16), int64(14), object(14)\n",
      "memory usage: 7.9+ MB\n"
     ]
    }
   ],
   "source": [
    "airbnb_selected_data.info()"
   ]
  },
  {
   "cell_type": "code",
   "execution_count": 193,
   "id": "403988e9-1bfb-4123-8052-fc11e5429e16",
   "metadata": {},
   "outputs": [],
   "source": [
    "airbnb_selected_data['host_response_rate'] = airbnb_selected_data['host_response_rate'].str.rstrip('%').astype(float) / 100\n",
    "airbnb_selected_data['host_acceptance_rate'] = airbnb_selected_data['host_acceptance_rate'].str.rstrip('%').astype(float) / 100"
   ]
  },
  {
   "cell_type": "code",
   "execution_count": 194,
   "id": "c8e6d18a-a9c4-40ae-93a2-41e2ad828047",
   "metadata": {},
   "outputs": [],
   "source": [
    "binary_columns = ['host_is_superhost', 'host_has_profile_pic', 'host_identity_verified', 'instant_bookable', 'has_availability']\n",
    "for col in binary_columns:\n",
    "    airbnb_selected_data[col] = airbnb_selected_data[col].map({'t': 1, 'f': 0})"
   ]
  },
  {
   "cell_type": "code",
   "execution_count": 195,
   "id": "dc85a3f8-5820-41f4-9ec6-51cd184f86c3",
   "metadata": {},
   "outputs": [],
   "source": [
    "airbnb_selected_data['first_review'] = pd.to_datetime(airbnb_selected_data['first_review']).astype(int) // 10**9\n",
    "airbnb_selected_data['last_review'] = pd.to_datetime(airbnb_selected_data['last_review']).astype(int) // 10**9"
   ]
  },
  {
   "cell_type": "code",
   "execution_count": 196,
   "id": "e2655627-a4a1-4081-a873-27dadb5529ab",
   "metadata": {},
   "outputs": [],
   "source": [
    "# Convert 'neighbourhood_cleansed' to categorical and store the mapping\n",
    "neighborhood_categories = dict(enumerate(airbnb_selected_data[\"neighbourhood_cleansed\"].astype('category').cat.categories))\n",
    "airbnb_selected_data['neighbourhood_cleansed'] = airbnb_selected_data['neighbourhood_cleansed'].astype('category').cat.codes\n",
    "\n",
    "# Convert 'neighbourhood_group_cleansed' to categorical and store the mapping\n",
    "neighborhood_group_categories = dict(enumerate(airbnb_selected_data[\"neighbourhood_group_cleansed\"].astype('category').cat.categories))\n",
    "airbnb_selected_data['neighbourhood_group_cleansed'] = airbnb_selected_data['neighbourhood_group_cleansed'].astype('category').cat.codes\n",
    "\n",
    "# Convert 'property_type' to categorical and store the mapping\n",
    "property_categories = dict(enumerate(airbnb_selected_data[\"property_type\"].astype('category').cat.categories))\n",
    "airbnb_selected_data['property_type'] = airbnb_selected_data['property_type'].astype('category').cat.codes\n",
    "\n",
    "# Convert 'room_type' to categorical and store the mapping\n",
    "room_categories = dict(enumerate(airbnb_selected_data[\"room_type\"].astype('category').cat.categories))\n",
    "airbnb_selected_data['room_type'] = airbnb_selected_data['room_type'].astype('category').cat.codes"
   ]
  },
  {
   "cell_type": "code",
   "execution_count": 197,
   "id": "e9dce631-8894-4cd6-8d86-cf91d26b22ae",
   "metadata": {},
   "outputs": [],
   "source": [
    "important_amenities = [\n",
    "    \"Wi-Fi\", \"Kitchen\", \"Air conditioning\", \"Heating\", \"Pool\", \"Gym\", \"Free parking\", \"TV\",\n",
    "    \"Laptop-friendly workspace\", \"Smoke alarm\", \"Carbon monoxide alarm\", \"First aid kit\",\n",
    "    \"Washer\", \"Dryer\", \"Dishwasher\", \"Hot tub\", \"Netflix\", \"Hulu\", \"Pet-friendly\",\n",
    "    \"Elevator\", \"Wheelchair Accessible\", \"Balcony\", \"BBQ grill\", \"Beachfront\"\n",
    "]\n",
    "\n",
    "# Convert amenities column from string to list\n",
    "airbnb_selected_data['amenities'] = airbnb_selected_data['amenities'].apply(lambda x: eval(x))  # Convert string representation to list\n",
    "\n",
    "# Create binary columns for important amenities\n",
    "for amenity in important_amenities:\n",
    "    airbnb_selected_data[amenity] = airbnb_selected_data['amenities'].apply(lambda x: 1 if amenity in x else 0)\n",
    "\n",
    "# Drop original 'amenities' column\n",
    "airbnb_selected_data.drop(columns=['amenities'], inplace=True)"
   ]
  },
  {
   "cell_type": "code",
   "execution_count": 198,
   "id": "62f78d6d-62c7-4918-806e-36ea18348a04",
   "metadata": {},
   "outputs": [
    {
     "name": "stdout",
     "output_type": "stream",
     "text": [
      "<class 'pandas.core.frame.DataFrame'>\n",
      "Index: 22969 entries, 0 to 37783\n",
      "Data columns (total 67 columns):\n",
      " #   Column                                        Non-Null Count  Dtype  \n",
      "---  ------                                        --------------  -----  \n",
      " 0   host_response_rate                            19030 non-null  float64\n",
      " 1   host_listings_count                           22968 non-null  float64\n",
      " 2   host_acceptance_rate                          19409 non-null  float64\n",
      " 3   host_is_superhost                             22635 non-null  float64\n",
      " 4   host_has_profile_pic                          22968 non-null  float64\n",
      " 5   host_total_listings_count                     22968 non-null  float64\n",
      " 6   host_identity_verified                        22968 non-null  float64\n",
      " 7   neighbourhood_cleansed                        22969 non-null  int16  \n",
      " 8   neighbourhood_group_cleansed                  22969 non-null  int8   \n",
      " 9   latitude                                      22969 non-null  float64\n",
      " 10  longitude                                     22969 non-null  float64\n",
      " 11  property_type                                 22969 non-null  int8   \n",
      " 12  room_type                                     22969 non-null  int8   \n",
      " 13  accommodates                                  22969 non-null  int64  \n",
      " 14  bedrooms                                      22936 non-null  float64\n",
      " 15  beds                                          22827 non-null  float64\n",
      " 16  price                                         22969 non-null  float64\n",
      " 17  bathrooms                                     22962 non-null  float64\n",
      " 18  minimum_nights                                22969 non-null  int64  \n",
      " 19  availability_30                               22969 non-null  int64  \n",
      " 20  maximum_nights                                22969 non-null  int64  \n",
      " 21  has_availability                              22756 non-null  float64\n",
      " 22  availability_60                               22969 non-null  int64  \n",
      " 23  availability_90                               22969 non-null  int64  \n",
      " 24  availability_365                              22969 non-null  int64  \n",
      " 25  number_of_reviews                             22969 non-null  int64  \n",
      " 26  number_of_reviews_ltm                         22969 non-null  int64  \n",
      " 27  number_of_reviews_l30d                        22969 non-null  int64  \n",
      " 28  first_review                                  22969 non-null  int64  \n",
      " 29  last_review                                   22969 non-null  int64  \n",
      " 30  review_scores_rating                          15917 non-null  float64\n",
      " 31  review_scores_accuracy                        15916 non-null  float64\n",
      " 32  review_scores_cleanliness                     15916 non-null  float64\n",
      " 33  review_scores_checkin                         15916 non-null  float64\n",
      " 34  review_scores_communication                   15916 non-null  float64\n",
      " 35  review_scores_location                        15915 non-null  float64\n",
      " 36  review_scores_value                           15916 non-null  float64\n",
      " 37  instant_bookable                              22969 non-null  int64  \n",
      " 38  calculated_host_listings_count                22969 non-null  int64  \n",
      " 39  calculated_host_listings_count_entire_homes   22969 non-null  int64  \n",
      " 40  calculated_host_listings_count_private_rooms  22969 non-null  int64  \n",
      " 41  calculated_host_listings_count_shared_rooms   22969 non-null  int64  \n",
      " 42  reviews_per_month                             15917 non-null  float64\n",
      " 43  Wi-Fi                                         22969 non-null  int64  \n",
      " 44  Kitchen                                       22969 non-null  int64  \n",
      " 45  Air conditioning                              22969 non-null  int64  \n",
      " 46  Heating                                       22969 non-null  int64  \n",
      " 47  Pool                                          22969 non-null  int64  \n",
      " 48  Gym                                           22969 non-null  int64  \n",
      " 49  Free parking                                  22969 non-null  int64  \n",
      " 50  TV                                            22969 non-null  int64  \n",
      " 51  Laptop-friendly workspace                     22969 non-null  int64  \n",
      " 52  Smoke alarm                                   22969 non-null  int64  \n",
      " 53  Carbon monoxide alarm                         22969 non-null  int64  \n",
      " 54  First aid kit                                 22969 non-null  int64  \n",
      " 55  Washer                                        22969 non-null  int64  \n",
      " 56  Dryer                                         22969 non-null  int64  \n",
      " 57  Dishwasher                                    22969 non-null  int64  \n",
      " 58  Hot tub                                       22969 non-null  int64  \n",
      " 59  Netflix                                       22969 non-null  int64  \n",
      " 60  Hulu                                          22969 non-null  int64  \n",
      " 61  Pet-friendly                                  22969 non-null  int64  \n",
      " 62  Elevator                                      22969 non-null  int64  \n",
      " 63  Wheelchair Accessible                         22969 non-null  int64  \n",
      " 64  Balcony                                       22969 non-null  int64  \n",
      " 65  BBQ grill                                     22969 non-null  int64  \n",
      " 66  Beachfront                                    22969 non-null  int64  \n",
      "dtypes: float64(22), int16(1), int64(41), int8(3)\n",
      "memory usage: 11.3 MB\n"
     ]
    }
   ],
   "source": [
    "airbnb_selected_data.info()"
   ]
  },
  {
   "cell_type": "markdown",
   "id": "01ffa75a-b40b-4dc2-8993-6fd7b57809e7",
   "metadata": {},
   "source": [
    "## Drop NaNs"
   ]
  },
  {
   "cell_type": "code",
   "execution_count": 228,
   "id": "19c2437f-c721-4bb7-bbb1-92366dfb2cf7",
   "metadata": {},
   "outputs": [],
   "source": [
    "df1 = airbnb_selected_data.copy()"
   ]
  },
  {
   "cell_type": "code",
   "execution_count": 229,
   "id": "565e3ea2-a3a1-483c-994b-27e03488cfdc",
   "metadata": {},
   "outputs": [],
   "source": [
    "df_without_nan = df1.dropna()"
   ]
  },
  {
   "cell_type": "code",
   "execution_count": 230,
   "id": "96f5715e-d793-4605-87e4-6867e1604a0e",
   "metadata": {},
   "outputs": [],
   "source": [
    "X = df_without_nan.drop(columns=[\"price\"])\n",
    "y = df_without_nan[\"price\"]\n",
    "\n",
    "X_train, X_test, y_train, y_test = train_test_split(X, y, test_size=0.2, random_state=42)\n",
    "\n",
    "model = LinearRegression()\n",
    "model.fit(X_train, y_train)\n",
    "y_pred = model.predict(X_test)"
   ]
  },
  {
   "cell_type": "code",
   "execution_count": 231,
   "id": "c1dc7743-e220-4ed3-b0d2-6519fee300a7",
   "metadata": {},
   "outputs": [
    {
     "name": "stdout",
     "output_type": "stream",
     "text": [
      "R² Score: 0.3888\n",
      "Mean Absolute Error (MAE): 70.7272\n",
      "Root Mean Squared Error (RMSE): 136.6350\n"
     ]
    }
   ],
   "source": [
    "r2 = r2_score(y_test, y_pred)\n",
    "mae = mean_absolute_error(y_test, y_pred)\n",
    "rmse = sqrt(mean_squared_error(y_test, y_pred))\n",
    "\n",
    "print(f\"R² Score: {r2:.4f}\")\n",
    "print(f\"Mean Absolute Error (MAE): {mae:.4f}\")\n",
    "print(f\"Root Mean Squared Error (RMSE): {rmse:.4f}\")"
   ]
  },
  {
   "cell_type": "markdown",
   "id": "9a5221ab-2c20-41f8-a156-0020bb4b900f",
   "metadata": {},
   "source": [
    "## Replace NaNs with Mean and Median"
   ]
  },
  {
   "cell_type": "code",
   "execution_count": 232,
   "id": "fed6d340-82b2-495e-bf14-17bfd5283b5d",
   "metadata": {},
   "outputs": [],
   "source": [
    "df2 = airbnb_selected_data.copy()"
   ]
  },
  {
   "cell_type": "code",
   "execution_count": 233,
   "id": "86d2eaaa",
   "metadata": {},
   "outputs": [
    {
     "data": {
      "text/plain": [
       "host_response_rate      -3.355471\n",
       "host_listings_count      3.462790\n",
       "host_acceptance_rate    -1.415844\n",
       "host_is_superhost        1.041877\n",
       "host_has_profile_pic    -4.807627\n",
       "                           ...   \n",
       "Elevator                 1.390800\n",
       "Wheelchair Accessible    0.000000\n",
       "Balcony                  0.000000\n",
       "BBQ grill                3.170862\n",
       "Beachfront               0.000000\n",
       "Length: 67, dtype: float64"
      ]
     },
     "execution_count": 233,
     "metadata": {},
     "output_type": "execute_result"
    }
   ],
   "source": [
    "skewness = df2.skew()\n",
    "skewness"
   ]
  },
  {
   "cell_type": "code",
   "execution_count": 234,
   "id": "6183c367-d658-4b36-8022-d615b0a49f36",
   "metadata": {},
   "outputs": [
    {
     "name": "stderr",
     "output_type": "stream",
     "text": [
      "/var/folders/tx/p250n1z92614j7gn3xvtb5dw0000gn/T/ipykernel_51624/3957965186.py:5: FutureWarning: A value is trying to be set on a copy of a DataFrame or Series through chained assignment using an inplace method.\n",
      "The behavior will change in pandas 3.0. This inplace method will never work because the intermediate object on which we are setting values always behaves as a copy.\n",
      "\n",
      "For example, when doing 'df[col].method(value, inplace=True)', try using 'df.method({col: value}, inplace=True)' or df[col] = df[col].method(value) instead, to perform the operation inplace on the original object.\n",
      "\n",
      "\n",
      "  df2[col].fillna(airbnb_selected_data[col].median(), inplace=True)  # Use median\n",
      "/var/folders/tx/p250n1z92614j7gn3xvtb5dw0000gn/T/ipykernel_51624/3957965186.py:5: FutureWarning: A value is trying to be set on a copy of a DataFrame or Series through chained assignment using an inplace method.\n",
      "The behavior will change in pandas 3.0. This inplace method will never work because the intermediate object on which we are setting values always behaves as a copy.\n",
      "\n",
      "For example, when doing 'df[col].method(value, inplace=True)', try using 'df.method({col: value}, inplace=True)' or df[col] = df[col].method(value) instead, to perform the operation inplace on the original object.\n",
      "\n",
      "\n",
      "  df2[col].fillna(airbnb_selected_data[col].median(), inplace=True)  # Use median\n",
      "/var/folders/tx/p250n1z92614j7gn3xvtb5dw0000gn/T/ipykernel_51624/3957965186.py:5: FutureWarning: A value is trying to be set on a copy of a DataFrame or Series through chained assignment using an inplace method.\n",
      "The behavior will change in pandas 3.0. This inplace method will never work because the intermediate object on which we are setting values always behaves as a copy.\n",
      "\n",
      "For example, when doing 'df[col].method(value, inplace=True)', try using 'df.method({col: value}, inplace=True)' or df[col] = df[col].method(value) instead, to perform the operation inplace on the original object.\n",
      "\n",
      "\n",
      "  df2[col].fillna(airbnb_selected_data[col].median(), inplace=True)  # Use median\n",
      "/var/folders/tx/p250n1z92614j7gn3xvtb5dw0000gn/T/ipykernel_51624/3957965186.py:5: FutureWarning: A value is trying to be set on a copy of a DataFrame or Series through chained assignment using an inplace method.\n",
      "The behavior will change in pandas 3.0. This inplace method will never work because the intermediate object on which we are setting values always behaves as a copy.\n",
      "\n",
      "For example, when doing 'df[col].method(value, inplace=True)', try using 'df.method({col: value}, inplace=True)' or df[col] = df[col].method(value) instead, to perform the operation inplace on the original object.\n",
      "\n",
      "\n",
      "  df2[col].fillna(airbnb_selected_data[col].median(), inplace=True)  # Use median\n",
      "/var/folders/tx/p250n1z92614j7gn3xvtb5dw0000gn/T/ipykernel_51624/3957965186.py:5: FutureWarning: A value is trying to be set on a copy of a DataFrame or Series through chained assignment using an inplace method.\n",
      "The behavior will change in pandas 3.0. This inplace method will never work because the intermediate object on which we are setting values always behaves as a copy.\n",
      "\n",
      "For example, when doing 'df[col].method(value, inplace=True)', try using 'df.method({col: value}, inplace=True)' or df[col] = df[col].method(value) instead, to perform the operation inplace on the original object.\n",
      "\n",
      "\n",
      "  df2[col].fillna(airbnb_selected_data[col].median(), inplace=True)  # Use median\n",
      "/var/folders/tx/p250n1z92614j7gn3xvtb5dw0000gn/T/ipykernel_51624/3957965186.py:5: FutureWarning: A value is trying to be set on a copy of a DataFrame or Series through chained assignment using an inplace method.\n",
      "The behavior will change in pandas 3.0. This inplace method will never work because the intermediate object on which we are setting values always behaves as a copy.\n",
      "\n",
      "For example, when doing 'df[col].method(value, inplace=True)', try using 'df.method({col: value}, inplace=True)' or df[col] = df[col].method(value) instead, to perform the operation inplace on the original object.\n",
      "\n",
      "\n",
      "  df2[col].fillna(airbnb_selected_data[col].median(), inplace=True)  # Use median\n",
      "/var/folders/tx/p250n1z92614j7gn3xvtb5dw0000gn/T/ipykernel_51624/3957965186.py:5: FutureWarning: A value is trying to be set on a copy of a DataFrame or Series through chained assignment using an inplace method.\n",
      "The behavior will change in pandas 3.0. This inplace method will never work because the intermediate object on which we are setting values always behaves as a copy.\n",
      "\n",
      "For example, when doing 'df[col].method(value, inplace=True)', try using 'df.method({col: value}, inplace=True)' or df[col] = df[col].method(value) instead, to perform the operation inplace on the original object.\n",
      "\n",
      "\n",
      "  df2[col].fillna(airbnb_selected_data[col].median(), inplace=True)  # Use median\n",
      "/var/folders/tx/p250n1z92614j7gn3xvtb5dw0000gn/T/ipykernel_51624/3957965186.py:3: FutureWarning: A value is trying to be set on a copy of a DataFrame or Series through chained assignment using an inplace method.\n",
      "The behavior will change in pandas 3.0. This inplace method will never work because the intermediate object on which we are setting values always behaves as a copy.\n",
      "\n",
      "For example, when doing 'df[col].method(value, inplace=True)', try using 'df.method({col: value}, inplace=True)' or df[col] = df[col].method(value) instead, to perform the operation inplace on the original object.\n",
      "\n",
      "\n",
      "  df2[col].fillna(airbnb_selected_data[col].mean(), inplace=True)  # Use mean\n",
      "/var/folders/tx/p250n1z92614j7gn3xvtb5dw0000gn/T/ipykernel_51624/3957965186.py:5: FutureWarning: A value is trying to be set on a copy of a DataFrame or Series through chained assignment using an inplace method.\n",
      "The behavior will change in pandas 3.0. This inplace method will never work because the intermediate object on which we are setting values always behaves as a copy.\n",
      "\n",
      "For example, when doing 'df[col].method(value, inplace=True)', try using 'df.method({col: value}, inplace=True)' or df[col] = df[col].method(value) instead, to perform the operation inplace on the original object.\n",
      "\n",
      "\n",
      "  df2[col].fillna(airbnb_selected_data[col].median(), inplace=True)  # Use median\n",
      "/var/folders/tx/p250n1z92614j7gn3xvtb5dw0000gn/T/ipykernel_51624/3957965186.py:3: FutureWarning: A value is trying to be set on a copy of a DataFrame or Series through chained assignment using an inplace method.\n",
      "The behavior will change in pandas 3.0. This inplace method will never work because the intermediate object on which we are setting values always behaves as a copy.\n",
      "\n",
      "For example, when doing 'df[col].method(value, inplace=True)', try using 'df.method({col: value}, inplace=True)' or df[col] = df[col].method(value) instead, to perform the operation inplace on the original object.\n",
      "\n",
      "\n",
      "  df2[col].fillna(airbnb_selected_data[col].mean(), inplace=True)  # Use mean\n",
      "/var/folders/tx/p250n1z92614j7gn3xvtb5dw0000gn/T/ipykernel_51624/3957965186.py:5: FutureWarning: A value is trying to be set on a copy of a DataFrame or Series through chained assignment using an inplace method.\n",
      "The behavior will change in pandas 3.0. This inplace method will never work because the intermediate object on which we are setting values always behaves as a copy.\n",
      "\n",
      "For example, when doing 'df[col].method(value, inplace=True)', try using 'df.method({col: value}, inplace=True)' or df[col] = df[col].method(value) instead, to perform the operation inplace on the original object.\n",
      "\n",
      "\n",
      "  df2[col].fillna(airbnb_selected_data[col].median(), inplace=True)  # Use median\n",
      "/var/folders/tx/p250n1z92614j7gn3xvtb5dw0000gn/T/ipykernel_51624/3957965186.py:5: FutureWarning: A value is trying to be set on a copy of a DataFrame or Series through chained assignment using an inplace method.\n",
      "The behavior will change in pandas 3.0. This inplace method will never work because the intermediate object on which we are setting values always behaves as a copy.\n",
      "\n",
      "For example, when doing 'df[col].method(value, inplace=True)', try using 'df.method({col: value}, inplace=True)' or df[col] = df[col].method(value) instead, to perform the operation inplace on the original object.\n",
      "\n",
      "\n",
      "  df2[col].fillna(airbnb_selected_data[col].median(), inplace=True)  # Use median\n",
      "/var/folders/tx/p250n1z92614j7gn3xvtb5dw0000gn/T/ipykernel_51624/3957965186.py:5: FutureWarning: A value is trying to be set on a copy of a DataFrame or Series through chained assignment using an inplace method.\n",
      "The behavior will change in pandas 3.0. This inplace method will never work because the intermediate object on which we are setting values always behaves as a copy.\n",
      "\n",
      "For example, when doing 'df[col].method(value, inplace=True)', try using 'df.method({col: value}, inplace=True)' or df[col] = df[col].method(value) instead, to perform the operation inplace on the original object.\n",
      "\n",
      "\n",
      "  df2[col].fillna(airbnb_selected_data[col].median(), inplace=True)  # Use median\n",
      "/var/folders/tx/p250n1z92614j7gn3xvtb5dw0000gn/T/ipykernel_51624/3957965186.py:5: FutureWarning: A value is trying to be set on a copy of a DataFrame or Series through chained assignment using an inplace method.\n",
      "The behavior will change in pandas 3.0. This inplace method will never work because the intermediate object on which we are setting values always behaves as a copy.\n",
      "\n",
      "For example, when doing 'df[col].method(value, inplace=True)', try using 'df.method({col: value}, inplace=True)' or df[col] = df[col].method(value) instead, to perform the operation inplace on the original object.\n",
      "\n",
      "\n",
      "  df2[col].fillna(airbnb_selected_data[col].median(), inplace=True)  # Use median\n",
      "/var/folders/tx/p250n1z92614j7gn3xvtb5dw0000gn/T/ipykernel_51624/3957965186.py:5: FutureWarning: A value is trying to be set on a copy of a DataFrame or Series through chained assignment using an inplace method.\n",
      "The behavior will change in pandas 3.0. This inplace method will never work because the intermediate object on which we are setting values always behaves as a copy.\n",
      "\n",
      "For example, when doing 'df[col].method(value, inplace=True)', try using 'df.method({col: value}, inplace=True)' or df[col] = df[col].method(value) instead, to perform the operation inplace on the original object.\n",
      "\n",
      "\n",
      "  df2[col].fillna(airbnb_selected_data[col].median(), inplace=True)  # Use median\n",
      "/var/folders/tx/p250n1z92614j7gn3xvtb5dw0000gn/T/ipykernel_51624/3957965186.py:5: FutureWarning: A value is trying to be set on a copy of a DataFrame or Series through chained assignment using an inplace method.\n",
      "The behavior will change in pandas 3.0. This inplace method will never work because the intermediate object on which we are setting values always behaves as a copy.\n",
      "\n",
      "For example, when doing 'df[col].method(value, inplace=True)', try using 'df.method({col: value}, inplace=True)' or df[col] = df[col].method(value) instead, to perform the operation inplace on the original object.\n",
      "\n",
      "\n",
      "  df2[col].fillna(airbnb_selected_data[col].median(), inplace=True)  # Use median\n",
      "/var/folders/tx/p250n1z92614j7gn3xvtb5dw0000gn/T/ipykernel_51624/3957965186.py:3: FutureWarning: A value is trying to be set on a copy of a DataFrame or Series through chained assignment using an inplace method.\n",
      "The behavior will change in pandas 3.0. This inplace method will never work because the intermediate object on which we are setting values always behaves as a copy.\n",
      "\n",
      "For example, when doing 'df[col].method(value, inplace=True)', try using 'df.method({col: value}, inplace=True)' or df[col] = df[col].method(value) instead, to perform the operation inplace on the original object.\n",
      "\n",
      "\n",
      "  df2[col].fillna(airbnb_selected_data[col].mean(), inplace=True)  # Use mean\n",
      "/var/folders/tx/p250n1z92614j7gn3xvtb5dw0000gn/T/ipykernel_51624/3957965186.py:5: FutureWarning: A value is trying to be set on a copy of a DataFrame or Series through chained assignment using an inplace method.\n",
      "The behavior will change in pandas 3.0. This inplace method will never work because the intermediate object on which we are setting values always behaves as a copy.\n",
      "\n",
      "For example, when doing 'df[col].method(value, inplace=True)', try using 'df.method({col: value}, inplace=True)' or df[col] = df[col].method(value) instead, to perform the operation inplace on the original object.\n",
      "\n",
      "\n",
      "  df2[col].fillna(airbnb_selected_data[col].median(), inplace=True)  # Use median\n",
      "/var/folders/tx/p250n1z92614j7gn3xvtb5dw0000gn/T/ipykernel_51624/3957965186.py:5: FutureWarning: A value is trying to be set on a copy of a DataFrame or Series through chained assignment using an inplace method.\n",
      "The behavior will change in pandas 3.0. This inplace method will never work because the intermediate object on which we are setting values always behaves as a copy.\n",
      "\n",
      "For example, when doing 'df[col].method(value, inplace=True)', try using 'df.method({col: value}, inplace=True)' or df[col] = df[col].method(value) instead, to perform the operation inplace on the original object.\n",
      "\n",
      "\n",
      "  df2[col].fillna(airbnb_selected_data[col].median(), inplace=True)  # Use median\n",
      "/var/folders/tx/p250n1z92614j7gn3xvtb5dw0000gn/T/ipykernel_51624/3957965186.py:3: FutureWarning: A value is trying to be set on a copy of a DataFrame or Series through chained assignment using an inplace method.\n",
      "The behavior will change in pandas 3.0. This inplace method will never work because the intermediate object on which we are setting values always behaves as a copy.\n",
      "\n",
      "For example, when doing 'df[col].method(value, inplace=True)', try using 'df.method({col: value}, inplace=True)' or df[col] = df[col].method(value) instead, to perform the operation inplace on the original object.\n",
      "\n",
      "\n",
      "  df2[col].fillna(airbnb_selected_data[col].mean(), inplace=True)  # Use mean\n",
      "/var/folders/tx/p250n1z92614j7gn3xvtb5dw0000gn/T/ipykernel_51624/3957965186.py:5: FutureWarning: A value is trying to be set on a copy of a DataFrame or Series through chained assignment using an inplace method.\n",
      "The behavior will change in pandas 3.0. This inplace method will never work because the intermediate object on which we are setting values always behaves as a copy.\n",
      "\n",
      "For example, when doing 'df[col].method(value, inplace=True)', try using 'df.method({col: value}, inplace=True)' or df[col] = df[col].method(value) instead, to perform the operation inplace on the original object.\n",
      "\n",
      "\n",
      "  df2[col].fillna(airbnb_selected_data[col].median(), inplace=True)  # Use median\n",
      "/var/folders/tx/p250n1z92614j7gn3xvtb5dw0000gn/T/ipykernel_51624/3957965186.py:5: FutureWarning: A value is trying to be set on a copy of a DataFrame or Series through chained assignment using an inplace method.\n",
      "The behavior will change in pandas 3.0. This inplace method will never work because the intermediate object on which we are setting values always behaves as a copy.\n",
      "\n",
      "For example, when doing 'df[col].method(value, inplace=True)', try using 'df.method({col: value}, inplace=True)' or df[col] = df[col].method(value) instead, to perform the operation inplace on the original object.\n",
      "\n",
      "\n",
      "  df2[col].fillna(airbnb_selected_data[col].median(), inplace=True)  # Use median\n",
      "/var/folders/tx/p250n1z92614j7gn3xvtb5dw0000gn/T/ipykernel_51624/3957965186.py:5: FutureWarning: A value is trying to be set on a copy of a DataFrame or Series through chained assignment using an inplace method.\n",
      "The behavior will change in pandas 3.0. This inplace method will never work because the intermediate object on which we are setting values always behaves as a copy.\n",
      "\n",
      "For example, when doing 'df[col].method(value, inplace=True)', try using 'df.method({col: value}, inplace=True)' or df[col] = df[col].method(value) instead, to perform the operation inplace on the original object.\n",
      "\n",
      "\n",
      "  df2[col].fillna(airbnb_selected_data[col].median(), inplace=True)  # Use median\n",
      "/var/folders/tx/p250n1z92614j7gn3xvtb5dw0000gn/T/ipykernel_51624/3957965186.py:3: FutureWarning: A value is trying to be set on a copy of a DataFrame or Series through chained assignment using an inplace method.\n",
      "The behavior will change in pandas 3.0. This inplace method will never work because the intermediate object on which we are setting values always behaves as a copy.\n",
      "\n",
      "For example, when doing 'df[col].method(value, inplace=True)', try using 'df.method({col: value}, inplace=True)' or df[col] = df[col].method(value) instead, to perform the operation inplace on the original object.\n",
      "\n",
      "\n",
      "  df2[col].fillna(airbnb_selected_data[col].mean(), inplace=True)  # Use mean\n",
      "/var/folders/tx/p250n1z92614j7gn3xvtb5dw0000gn/T/ipykernel_51624/3957965186.py:5: FutureWarning: A value is trying to be set on a copy of a DataFrame or Series through chained assignment using an inplace method.\n",
      "The behavior will change in pandas 3.0. This inplace method will never work because the intermediate object on which we are setting values always behaves as a copy.\n",
      "\n",
      "For example, when doing 'df[col].method(value, inplace=True)', try using 'df.method({col: value}, inplace=True)' or df[col] = df[col].method(value) instead, to perform the operation inplace on the original object.\n",
      "\n",
      "\n",
      "  df2[col].fillna(airbnb_selected_data[col].median(), inplace=True)  # Use median\n",
      "/var/folders/tx/p250n1z92614j7gn3xvtb5dw0000gn/T/ipykernel_51624/3957965186.py:5: FutureWarning: A value is trying to be set on a copy of a DataFrame or Series through chained assignment using an inplace method.\n",
      "The behavior will change in pandas 3.0. This inplace method will never work because the intermediate object on which we are setting values always behaves as a copy.\n",
      "\n",
      "For example, when doing 'df[col].method(value, inplace=True)', try using 'df.method({col: value}, inplace=True)' or df[col] = df[col].method(value) instead, to perform the operation inplace on the original object.\n",
      "\n",
      "\n",
      "  df2[col].fillna(airbnb_selected_data[col].median(), inplace=True)  # Use median\n",
      "/var/folders/tx/p250n1z92614j7gn3xvtb5dw0000gn/T/ipykernel_51624/3957965186.py:5: FutureWarning: A value is trying to be set on a copy of a DataFrame or Series through chained assignment using an inplace method.\n",
      "The behavior will change in pandas 3.0. This inplace method will never work because the intermediate object on which we are setting values always behaves as a copy.\n",
      "\n",
      "For example, when doing 'df[col].method(value, inplace=True)', try using 'df.method({col: value}, inplace=True)' or df[col] = df[col].method(value) instead, to perform the operation inplace on the original object.\n",
      "\n",
      "\n",
      "  df2[col].fillna(airbnb_selected_data[col].median(), inplace=True)  # Use median\n",
      "/var/folders/tx/p250n1z92614j7gn3xvtb5dw0000gn/T/ipykernel_51624/3957965186.py:5: FutureWarning: A value is trying to be set on a copy of a DataFrame or Series through chained assignment using an inplace method.\n",
      "The behavior will change in pandas 3.0. This inplace method will never work because the intermediate object on which we are setting values always behaves as a copy.\n",
      "\n",
      "For example, when doing 'df[col].method(value, inplace=True)', try using 'df.method({col: value}, inplace=True)' or df[col] = df[col].method(value) instead, to perform the operation inplace on the original object.\n",
      "\n",
      "\n",
      "  df2[col].fillna(airbnb_selected_data[col].median(), inplace=True)  # Use median\n",
      "/var/folders/tx/p250n1z92614j7gn3xvtb5dw0000gn/T/ipykernel_51624/3957965186.py:5: FutureWarning: A value is trying to be set on a copy of a DataFrame or Series through chained assignment using an inplace method.\n",
      "The behavior will change in pandas 3.0. This inplace method will never work because the intermediate object on which we are setting values always behaves as a copy.\n",
      "\n",
      "For example, when doing 'df[col].method(value, inplace=True)', try using 'df.method({col: value}, inplace=True)' or df[col] = df[col].method(value) instead, to perform the operation inplace on the original object.\n",
      "\n",
      "\n",
      "  df2[col].fillna(airbnb_selected_data[col].median(), inplace=True)  # Use median\n",
      "/var/folders/tx/p250n1z92614j7gn3xvtb5dw0000gn/T/ipykernel_51624/3957965186.py:5: FutureWarning: A value is trying to be set on a copy of a DataFrame or Series through chained assignment using an inplace method.\n",
      "The behavior will change in pandas 3.0. This inplace method will never work because the intermediate object on which we are setting values always behaves as a copy.\n",
      "\n",
      "For example, when doing 'df[col].method(value, inplace=True)', try using 'df.method({col: value}, inplace=True)' or df[col] = df[col].method(value) instead, to perform the operation inplace on the original object.\n",
      "\n",
      "\n",
      "  df2[col].fillna(airbnb_selected_data[col].median(), inplace=True)  # Use median\n",
      "/var/folders/tx/p250n1z92614j7gn3xvtb5dw0000gn/T/ipykernel_51624/3957965186.py:5: FutureWarning: A value is trying to be set on a copy of a DataFrame or Series through chained assignment using an inplace method.\n",
      "The behavior will change in pandas 3.0. This inplace method will never work because the intermediate object on which we are setting values always behaves as a copy.\n",
      "\n",
      "For example, when doing 'df[col].method(value, inplace=True)', try using 'df.method({col: value}, inplace=True)' or df[col] = df[col].method(value) instead, to perform the operation inplace on the original object.\n",
      "\n",
      "\n",
      "  df2[col].fillna(airbnb_selected_data[col].median(), inplace=True)  # Use median\n",
      "/var/folders/tx/p250n1z92614j7gn3xvtb5dw0000gn/T/ipykernel_51624/3957965186.py:5: FutureWarning: A value is trying to be set on a copy of a DataFrame or Series through chained assignment using an inplace method.\n",
      "The behavior will change in pandas 3.0. This inplace method will never work because the intermediate object on which we are setting values always behaves as a copy.\n",
      "\n",
      "For example, when doing 'df[col].method(value, inplace=True)', try using 'df.method({col: value}, inplace=True)' or df[col] = df[col].method(value) instead, to perform the operation inplace on the original object.\n",
      "\n",
      "\n",
      "  df2[col].fillna(airbnb_selected_data[col].median(), inplace=True)  # Use median\n",
      "/var/folders/tx/p250n1z92614j7gn3xvtb5dw0000gn/T/ipykernel_51624/3957965186.py:5: FutureWarning: A value is trying to be set on a copy of a DataFrame or Series through chained assignment using an inplace method.\n",
      "The behavior will change in pandas 3.0. This inplace method will never work because the intermediate object on which we are setting values always behaves as a copy.\n",
      "\n",
      "For example, when doing 'df[col].method(value, inplace=True)', try using 'df.method({col: value}, inplace=True)' or df[col] = df[col].method(value) instead, to perform the operation inplace on the original object.\n",
      "\n",
      "\n",
      "  df2[col].fillna(airbnb_selected_data[col].median(), inplace=True)  # Use median\n",
      "/var/folders/tx/p250n1z92614j7gn3xvtb5dw0000gn/T/ipykernel_51624/3957965186.py:5: FutureWarning: A value is trying to be set on a copy of a DataFrame or Series through chained assignment using an inplace method.\n",
      "The behavior will change in pandas 3.0. This inplace method will never work because the intermediate object on which we are setting values always behaves as a copy.\n",
      "\n",
      "For example, when doing 'df[col].method(value, inplace=True)', try using 'df.method({col: value}, inplace=True)' or df[col] = df[col].method(value) instead, to perform the operation inplace on the original object.\n",
      "\n",
      "\n",
      "  df2[col].fillna(airbnb_selected_data[col].median(), inplace=True)  # Use median\n",
      "/var/folders/tx/p250n1z92614j7gn3xvtb5dw0000gn/T/ipykernel_51624/3957965186.py:5: FutureWarning: A value is trying to be set on a copy of a DataFrame or Series through chained assignment using an inplace method.\n",
      "The behavior will change in pandas 3.0. This inplace method will never work because the intermediate object on which we are setting values always behaves as a copy.\n",
      "\n",
      "For example, when doing 'df[col].method(value, inplace=True)', try using 'df.method({col: value}, inplace=True)' or df[col] = df[col].method(value) instead, to perform the operation inplace on the original object.\n",
      "\n",
      "\n",
      "  df2[col].fillna(airbnb_selected_data[col].median(), inplace=True)  # Use median\n",
      "/var/folders/tx/p250n1z92614j7gn3xvtb5dw0000gn/T/ipykernel_51624/3957965186.py:5: FutureWarning: A value is trying to be set on a copy of a DataFrame or Series through chained assignment using an inplace method.\n",
      "The behavior will change in pandas 3.0. This inplace method will never work because the intermediate object on which we are setting values always behaves as a copy.\n",
      "\n",
      "For example, when doing 'df[col].method(value, inplace=True)', try using 'df.method({col: value}, inplace=True)' or df[col] = df[col].method(value) instead, to perform the operation inplace on the original object.\n",
      "\n",
      "\n",
      "  df2[col].fillna(airbnb_selected_data[col].median(), inplace=True)  # Use median\n",
      "/var/folders/tx/p250n1z92614j7gn3xvtb5dw0000gn/T/ipykernel_51624/3957965186.py:5: FutureWarning: A value is trying to be set on a copy of a DataFrame or Series through chained assignment using an inplace method.\n",
      "The behavior will change in pandas 3.0. This inplace method will never work because the intermediate object on which we are setting values always behaves as a copy.\n",
      "\n",
      "For example, when doing 'df[col].method(value, inplace=True)', try using 'df.method({col: value}, inplace=True)' or df[col] = df[col].method(value) instead, to perform the operation inplace on the original object.\n",
      "\n",
      "\n",
      "  df2[col].fillna(airbnb_selected_data[col].median(), inplace=True)  # Use median\n",
      "/var/folders/tx/p250n1z92614j7gn3xvtb5dw0000gn/T/ipykernel_51624/3957965186.py:3: FutureWarning: A value is trying to be set on a copy of a DataFrame or Series through chained assignment using an inplace method.\n",
      "The behavior will change in pandas 3.0. This inplace method will never work because the intermediate object on which we are setting values always behaves as a copy.\n",
      "\n",
      "For example, when doing 'df[col].method(value, inplace=True)', try using 'df.method({col: value}, inplace=True)' or df[col] = df[col].method(value) instead, to perform the operation inplace on the original object.\n",
      "\n",
      "\n",
      "  df2[col].fillna(airbnb_selected_data[col].mean(), inplace=True)  # Use mean\n",
      "/var/folders/tx/p250n1z92614j7gn3xvtb5dw0000gn/T/ipykernel_51624/3957965186.py:5: FutureWarning: A value is trying to be set on a copy of a DataFrame or Series through chained assignment using an inplace method.\n",
      "The behavior will change in pandas 3.0. This inplace method will never work because the intermediate object on which we are setting values always behaves as a copy.\n",
      "\n",
      "For example, when doing 'df[col].method(value, inplace=True)', try using 'df.method({col: value}, inplace=True)' or df[col] = df[col].method(value) instead, to perform the operation inplace on the original object.\n",
      "\n",
      "\n",
      "  df2[col].fillna(airbnb_selected_data[col].median(), inplace=True)  # Use median\n",
      "/var/folders/tx/p250n1z92614j7gn3xvtb5dw0000gn/T/ipykernel_51624/3957965186.py:3: FutureWarning: A value is trying to be set on a copy of a DataFrame or Series through chained assignment using an inplace method.\n",
      "The behavior will change in pandas 3.0. This inplace method will never work because the intermediate object on which we are setting values always behaves as a copy.\n",
      "\n",
      "For example, when doing 'df[col].method(value, inplace=True)', try using 'df.method({col: value}, inplace=True)' or df[col] = df[col].method(value) instead, to perform the operation inplace on the original object.\n",
      "\n",
      "\n",
      "  df2[col].fillna(airbnb_selected_data[col].mean(), inplace=True)  # Use mean\n",
      "/var/folders/tx/p250n1z92614j7gn3xvtb5dw0000gn/T/ipykernel_51624/3957965186.py:5: FutureWarning: A value is trying to be set on a copy of a DataFrame or Series through chained assignment using an inplace method.\n",
      "The behavior will change in pandas 3.0. This inplace method will never work because the intermediate object on which we are setting values always behaves as a copy.\n",
      "\n",
      "For example, when doing 'df[col].method(value, inplace=True)', try using 'df.method({col: value}, inplace=True)' or df[col] = df[col].method(value) instead, to perform the operation inplace on the original object.\n",
      "\n",
      "\n",
      "  df2[col].fillna(airbnb_selected_data[col].median(), inplace=True)  # Use median\n",
      "/var/folders/tx/p250n1z92614j7gn3xvtb5dw0000gn/T/ipykernel_51624/3957965186.py:5: FutureWarning: A value is trying to be set on a copy of a DataFrame or Series through chained assignment using an inplace method.\n",
      "The behavior will change in pandas 3.0. This inplace method will never work because the intermediate object on which we are setting values always behaves as a copy.\n",
      "\n",
      "For example, when doing 'df[col].method(value, inplace=True)', try using 'df.method({col: value}, inplace=True)' or df[col] = df[col].method(value) instead, to perform the operation inplace on the original object.\n",
      "\n",
      "\n",
      "  df2[col].fillna(airbnb_selected_data[col].median(), inplace=True)  # Use median\n",
      "/var/folders/tx/p250n1z92614j7gn3xvtb5dw0000gn/T/ipykernel_51624/3957965186.py:3: FutureWarning: A value is trying to be set on a copy of a DataFrame or Series through chained assignment using an inplace method.\n",
      "The behavior will change in pandas 3.0. This inplace method will never work because the intermediate object on which we are setting values always behaves as a copy.\n",
      "\n",
      "For example, when doing 'df[col].method(value, inplace=True)', try using 'df.method({col: value}, inplace=True)' or df[col] = df[col].method(value) instead, to perform the operation inplace on the original object.\n",
      "\n",
      "\n",
      "  df2[col].fillna(airbnb_selected_data[col].mean(), inplace=True)  # Use mean\n",
      "/var/folders/tx/p250n1z92614j7gn3xvtb5dw0000gn/T/ipykernel_51624/3957965186.py:5: FutureWarning: A value is trying to be set on a copy of a DataFrame or Series through chained assignment using an inplace method.\n",
      "The behavior will change in pandas 3.0. This inplace method will never work because the intermediate object on which we are setting values always behaves as a copy.\n",
      "\n",
      "For example, when doing 'df[col].method(value, inplace=True)', try using 'df.method({col: value}, inplace=True)' or df[col] = df[col].method(value) instead, to perform the operation inplace on the original object.\n",
      "\n",
      "\n",
      "  df2[col].fillna(airbnb_selected_data[col].median(), inplace=True)  # Use median\n",
      "/var/folders/tx/p250n1z92614j7gn3xvtb5dw0000gn/T/ipykernel_51624/3957965186.py:5: FutureWarning: A value is trying to be set on a copy of a DataFrame or Series through chained assignment using an inplace method.\n",
      "The behavior will change in pandas 3.0. This inplace method will never work because the intermediate object on which we are setting values always behaves as a copy.\n",
      "\n",
      "For example, when doing 'df[col].method(value, inplace=True)', try using 'df.method({col: value}, inplace=True)' or df[col] = df[col].method(value) instead, to perform the operation inplace on the original object.\n",
      "\n",
      "\n",
      "  df2[col].fillna(airbnb_selected_data[col].median(), inplace=True)  # Use median\n",
      "/var/folders/tx/p250n1z92614j7gn3xvtb5dw0000gn/T/ipykernel_51624/3957965186.py:3: FutureWarning: A value is trying to be set on a copy of a DataFrame or Series through chained assignment using an inplace method.\n",
      "The behavior will change in pandas 3.0. This inplace method will never work because the intermediate object on which we are setting values always behaves as a copy.\n",
      "\n",
      "For example, when doing 'df[col].method(value, inplace=True)', try using 'df.method({col: value}, inplace=True)' or df[col] = df[col].method(value) instead, to perform the operation inplace on the original object.\n",
      "\n",
      "\n",
      "  df2[col].fillna(airbnb_selected_data[col].mean(), inplace=True)  # Use mean\n",
      "/var/folders/tx/p250n1z92614j7gn3xvtb5dw0000gn/T/ipykernel_51624/3957965186.py:5: FutureWarning: A value is trying to be set on a copy of a DataFrame or Series through chained assignment using an inplace method.\n",
      "The behavior will change in pandas 3.0. This inplace method will never work because the intermediate object on which we are setting values always behaves as a copy.\n",
      "\n",
      "For example, when doing 'df[col].method(value, inplace=True)', try using 'df.method({col: value}, inplace=True)' or df[col] = df[col].method(value) instead, to perform the operation inplace on the original object.\n",
      "\n",
      "\n",
      "  df2[col].fillna(airbnb_selected_data[col].median(), inplace=True)  # Use median\n",
      "/var/folders/tx/p250n1z92614j7gn3xvtb5dw0000gn/T/ipykernel_51624/3957965186.py:5: FutureWarning: A value is trying to be set on a copy of a DataFrame or Series through chained assignment using an inplace method.\n",
      "The behavior will change in pandas 3.0. This inplace method will never work because the intermediate object on which we are setting values always behaves as a copy.\n",
      "\n",
      "For example, when doing 'df[col].method(value, inplace=True)', try using 'df.method({col: value}, inplace=True)' or df[col] = df[col].method(value) instead, to perform the operation inplace on the original object.\n",
      "\n",
      "\n",
      "  df2[col].fillna(airbnb_selected_data[col].median(), inplace=True)  # Use median\n",
      "/var/folders/tx/p250n1z92614j7gn3xvtb5dw0000gn/T/ipykernel_51624/3957965186.py:3: FutureWarning: A value is trying to be set on a copy of a DataFrame or Series through chained assignment using an inplace method.\n",
      "The behavior will change in pandas 3.0. This inplace method will never work because the intermediate object on which we are setting values always behaves as a copy.\n",
      "\n",
      "For example, when doing 'df[col].method(value, inplace=True)', try using 'df.method({col: value}, inplace=True)' or df[col] = df[col].method(value) instead, to perform the operation inplace on the original object.\n",
      "\n",
      "\n",
      "  df2[col].fillna(airbnb_selected_data[col].mean(), inplace=True)  # Use mean\n",
      "/var/folders/tx/p250n1z92614j7gn3xvtb5dw0000gn/T/ipykernel_51624/3957965186.py:5: FutureWarning: A value is trying to be set on a copy of a DataFrame or Series through chained assignment using an inplace method.\n",
      "The behavior will change in pandas 3.0. This inplace method will never work because the intermediate object on which we are setting values always behaves as a copy.\n",
      "\n",
      "For example, when doing 'df[col].method(value, inplace=True)', try using 'df.method({col: value}, inplace=True)' or df[col] = df[col].method(value) instead, to perform the operation inplace on the original object.\n",
      "\n",
      "\n",
      "  df2[col].fillna(airbnb_selected_data[col].median(), inplace=True)  # Use median\n",
      "/var/folders/tx/p250n1z92614j7gn3xvtb5dw0000gn/T/ipykernel_51624/3957965186.py:3: FutureWarning: A value is trying to be set on a copy of a DataFrame or Series through chained assignment using an inplace method.\n",
      "The behavior will change in pandas 3.0. This inplace method will never work because the intermediate object on which we are setting values always behaves as a copy.\n",
      "\n",
      "For example, when doing 'df[col].method(value, inplace=True)', try using 'df.method({col: value}, inplace=True)' or df[col] = df[col].method(value) instead, to perform the operation inplace on the original object.\n",
      "\n",
      "\n",
      "  df2[col].fillna(airbnb_selected_data[col].mean(), inplace=True)  # Use mean\n",
      "/var/folders/tx/p250n1z92614j7gn3xvtb5dw0000gn/T/ipykernel_51624/3957965186.py:5: FutureWarning: A value is trying to be set on a copy of a DataFrame or Series through chained assignment using an inplace method.\n",
      "The behavior will change in pandas 3.0. This inplace method will never work because the intermediate object on which we are setting values always behaves as a copy.\n",
      "\n",
      "For example, when doing 'df[col].method(value, inplace=True)', try using 'df.method({col: value}, inplace=True)' or df[col] = df[col].method(value) instead, to perform the operation inplace on the original object.\n",
      "\n",
      "\n",
      "  df2[col].fillna(airbnb_selected_data[col].median(), inplace=True)  # Use median\n",
      "/var/folders/tx/p250n1z92614j7gn3xvtb5dw0000gn/T/ipykernel_51624/3957965186.py:3: FutureWarning: A value is trying to be set on a copy of a DataFrame or Series through chained assignment using an inplace method.\n",
      "The behavior will change in pandas 3.0. This inplace method will never work because the intermediate object on which we are setting values always behaves as a copy.\n",
      "\n",
      "For example, when doing 'df[col].method(value, inplace=True)', try using 'df.method({col: value}, inplace=True)' or df[col] = df[col].method(value) instead, to perform the operation inplace on the original object.\n",
      "\n",
      "\n",
      "  df2[col].fillna(airbnb_selected_data[col].mean(), inplace=True)  # Use mean\n",
      "/var/folders/tx/p250n1z92614j7gn3xvtb5dw0000gn/T/ipykernel_51624/3957965186.py:5: FutureWarning: A value is trying to be set on a copy of a DataFrame or Series through chained assignment using an inplace method.\n",
      "The behavior will change in pandas 3.0. This inplace method will never work because the intermediate object on which we are setting values always behaves as a copy.\n",
      "\n",
      "For example, when doing 'df[col].method(value, inplace=True)', try using 'df.method({col: value}, inplace=True)' or df[col] = df[col].method(value) instead, to perform the operation inplace on the original object.\n",
      "\n",
      "\n",
      "  df2[col].fillna(airbnb_selected_data[col].median(), inplace=True)  # Use median\n",
      "/var/folders/tx/p250n1z92614j7gn3xvtb5dw0000gn/T/ipykernel_51624/3957965186.py:3: FutureWarning: A value is trying to be set on a copy of a DataFrame or Series through chained assignment using an inplace method.\n",
      "The behavior will change in pandas 3.0. This inplace method will never work because the intermediate object on which we are setting values always behaves as a copy.\n",
      "\n",
      "For example, when doing 'df[col].method(value, inplace=True)', try using 'df.method({col: value}, inplace=True)' or df[col] = df[col].method(value) instead, to perform the operation inplace on the original object.\n",
      "\n",
      "\n",
      "  df2[col].fillna(airbnb_selected_data[col].mean(), inplace=True)  # Use mean\n"
     ]
    }
   ],
   "source": [
    "for col in df2.columns:\n",
    "    if skewness[col] > -1 and skewness[col] < 1:\n",
    "        df2[col].fillna(airbnb_selected_data[col].mean(), inplace=True)  # Use mean\n",
    "    else:\n",
    "        df2[col].fillna(airbnb_selected_data[col].median(), inplace=True)  # Use median\n",
    "\n",
    "df2.isna().sum()\n",
    "df_without_nan = df2.copy()"
   ]
  },
  {
   "cell_type": "code",
   "execution_count": 235,
   "id": "c4d3e855-9775-4f7c-a0ac-7506ab2e37f9",
   "metadata": {},
   "outputs": [],
   "source": [
    "X = df_without_nan.drop(columns=[\"price\"])\n",
    "y = df_without_nan[\"price\"]\n",
    "\n",
    "X_train, X_test, y_train, y_test = train_test_split(X, y, test_size=0.2, random_state=42)\n",
    "\n",
    "model = LinearRegression()\n",
    "model.fit(X_train, y_train)\n",
    "y_pred = model.predict(X_test)"
   ]
  },
  {
   "cell_type": "code",
   "execution_count": 236,
   "id": "83b74b5b-13e3-43c9-af8d-9a02dc684ddd",
   "metadata": {},
   "outputs": [
    {
     "name": "stdout",
     "output_type": "stream",
     "text": [
      "R² Score: 0.1081\n",
      "Mean Absolute Error (MAE): 105.6712\n",
      "Root Mean Squared Error (RMSE): 420.7003\n"
     ]
    }
   ],
   "source": [
    "r2 = r2_score(y_test, y_pred)\n",
    "mae = mean_absolute_error(y_test, y_pred)\n",
    "rmse = sqrt(mean_squared_error(y_test, y_pred))\n",
    "\n",
    "print(f\"R² Score: {r2:.4f}\")\n",
    "print(f\"Mean Absolute Error (MAE): {mae:.4f}\")\n",
    "print(f\"Root Mean Squared Error (RMSE): {rmse:.4f}\")"
   ]
  },
  {
   "cell_type": "markdown",
   "id": "4bf09076-f22d-4004-bfb1-47151a0e878f",
   "metadata": {},
   "source": [
    "## Replace Outliers"
   ]
  },
  {
   "cell_type": "code",
   "execution_count": 268,
   "id": "06b8c371",
   "metadata": {},
   "outputs": [],
   "source": [
    "df3 = df_without_nan.copy()"
   ]
  },
  {
   "cell_type": "code",
   "execution_count": 269,
   "id": "b0fbfa55",
   "metadata": {},
   "outputs": [],
   "source": [
    "def winsorize_all_columns(df, lower=20, upper=80):\n",
    "    for col in df.select_dtypes(include=[np.number]).columns:  # Loop over numerical columns\n",
    "        lower_limit = np.percentile(df[col], lower)\n",
    "        upper_limit = np.percentile(df[col], upper)\n",
    "        df[col] = np.clip(df[col], lower_limit, upper_limit)  # Apply capping\n",
    "    return df\n",
    "\n",
    "df_without_outliers = winsorize_all_columns(df3)  # Apply Winsorization to all numeric columns"
   ]
  },
  {
   "cell_type": "code",
   "execution_count": 270,
   "id": "f92b5966",
   "metadata": {},
   "outputs": [],
   "source": [
    "X = df_without_outliers.drop(columns=[\"price\"])\n",
    "y = df_without_outliers[\"price\"]\n",
    "\n",
    "X_train, X_test, y_train, y_test = train_test_split(X, y, test_size=0.2, random_state=42)\n",
    "\n",
    "model = LinearRegression()\n",
    "model.fit(X_train, y_train)\n",
    "y_pred = model.predict(X_test)"
   ]
  },
  {
   "cell_type": "code",
   "execution_count": 271,
   "id": "76600991",
   "metadata": {},
   "outputs": [
    {
     "name": "stdout",
     "output_type": "stream",
     "text": [
      "R² Score: 0.5040\n",
      "Mean Absolute Error (MAE): 38.5285\n",
      "Root Mean Squared Error (RMSE): 48.0723\n"
     ]
    }
   ],
   "source": [
    "r2 = r2_score(y_test, y_pred)\n",
    "mae = mean_absolute_error(y_test, y_pred)\n",
    "rmse = sqrt(mean_squared_error(y_test, y_pred))\n",
    "\n",
    "print(f\"R² Score: {r2:.4f}\")\n",
    "print(f\"Mean Absolute Error (MAE): {mae:.4f}\")\n",
    "print(f\"Root Mean Squared Error (RMSE): {rmse:.4f}\")"
   ]
  },
  {
   "cell_type": "markdown",
   "id": "92b514fb-1e73-4705-8383-e9d83ac89dd6",
   "metadata": {},
   "source": [
    "## Latitude/Longitude handing from center"
   ]
  },
  {
   "cell_type": "code",
   "execution_count": 698,
   "id": "d0358556",
   "metadata": {},
   "outputs": [],
   "source": [
    "df4 = df_without_outliers.copy()"
   ]
  },
  {
   "cell_type": "code",
   "execution_count": 699,
   "id": "0d7fdd2d-b8c0-4859-9d2a-13ef3d0e342d",
   "metadata": {},
   "outputs": [],
   "source": [
    "import pandas as pd\n",
    "import numpy as np\n",
    "\n",
    "# Define NYC center\n",
    "nyc_center = (40.7128, -74.0060)\n",
    "\n",
    "# Compute distance from city center\n",
    "df4['distance_from_center'] = df4.apply(lambda row: geodesic((row['latitude'], row['longitude']), nyc_center).km, axis=1)\n",
    "\n",
    "# KMeans clustering on lat/lon\n",
    "kmeans = KMeans(n_clusters=50, random_state=42, n_init=10)\n",
    "df4['location_cluster'] = kmeans.fit_predict(df4[['latitude', 'longitude']])\n",
    "\n",
    "df_with_center = df4.copy()"
   ]
  },
  {
   "cell_type": "code",
   "execution_count": 700,
   "id": "ddfb9a02-7af8-4a4b-a8ed-aa01bed5631c",
   "metadata": {},
   "outputs": [],
   "source": [
    "X = df4.drop(columns=[\"price\"])\n",
    "y = df4[\"price\"]\n",
    "\n",
    "X_train, X_test, y_train, y_test = train_test_split(X, y, test_size=0.2, random_state=42)\n",
    "\n",
    "model = LinearRegression()\n",
    "model.fit(X_train, y_train)\n",
    "y_pred = model.predict(X_test)"
   ]
  },
  {
   "cell_type": "code",
   "execution_count": 701,
   "id": "29103737-8e41-4e71-9da0-7522c2361c06",
   "metadata": {},
   "outputs": [
    {
     "name": "stdout",
     "output_type": "stream",
     "text": [
      "R² Score: 0.5155\n",
      "Mean Absolute Error (MAE): 37.9693\n",
      "Root Mean Squared Error (RMSE): 47.5096\n"
     ]
    }
   ],
   "source": [
    "r2 = r2_score(y_test, y_pred)\n",
    "mae = mean_absolute_error(y_test, y_pred)\n",
    "rmse = sqrt(mean_squared_error(y_test, y_pred))\n",
    "\n",
    "print(f\"R² Score: {r2:.4f}\")\n",
    "print(f\"Mean Absolute Error (MAE): {mae:.4f}\")\n",
    "print(f\"Root Mean Squared Error (RMSE): {rmse:.4f}\")"
   ]
  },
  {
   "cell_type": "markdown",
   "id": "7d9772c7-d931-43f2-aa99-94b165896433",
   "metadata": {},
   "source": [
    "## Latitude/Longitude handing from popular landmarks"
   ]
  },
  {
   "cell_type": "code",
   "execution_count": 702,
   "id": "c377a1d4",
   "metadata": {},
   "outputs": [],
   "source": [
    "df5 = df_with_center.copy()"
   ]
  },
  {
   "cell_type": "code",
   "execution_count": 703,
   "id": "73f4ca78-a9b2-4d6b-891a-3b48f8a0d3e8",
   "metadata": {},
   "outputs": [],
   "source": [
    "import pandas as pd\n",
    "import numpy as np\n",
    "from haversine import haversine\n",
    "\n",
    "# Define popular NYC landmarks with (latitude, longitude)\n",
    "landmarks = {\n",
    "    \"Times_Square\": (40.7580, -73.9855),\n",
    "    \"Central_Park\": (40.7851, -73.9683),\n",
    "    \"Statue_of_Liberty\": (40.6892, -74.0445),\n",
    "    \"Brooklyn_Bridge\": (40.7061, -73.9969),\n",
    "    \"Empire_State_Building\": (40.7488, -73.9854),\n",
    "    \"JFK_Airport\": (40.6413, -73.7781),\n",
    "    \"LaGuardia_Airport\": (40.7769, -73.8740),\n",
    "    \"Wall_Street\": (40.7074, -74.0113),\n",
    "    \"Fifth_Avenue\": (40.7750, -73.9650),\n",
    "    \"Broadway_Theater_District\": (40.7590, -73.9845),\n",
    "    \"Rockefeller_Center\": (40.7587, -73.9787),\n",
    "    \"Chrysler_Building\": (40.7516, -73.9755),\n",
    "    \"Madison_Square_Garden\": (40.7505, -73.9934),\n",
    "    \"Grand_Central_Terminal\": (40.7527, -73.9772),\n",
    "    \"SoHo\": (40.7229, -74.0007),\n",
    "    \"Little_Italy\": (40.7191, -73.9973),\n",
    "    \"Chinatown\": (40.7158, -73.9970),\n",
    "    \"Greenwich_Village\": (40.7336, -74.0027),\n",
    "    \"DUMBO_Brooklyn\": (40.7033, -73.9896),\n",
    "    \"Coney_Island\": (40.5749, -73.9850),\n",
    "    \"Yankee_Stadium\": (40.8296, -73.9262),\n",
    "    \"Metropolitan_Museum\": (40.7794, -73.9632),\n",
    "    \"Brooklyn_Museum\": (40.6714, -73.9638),\n",
    "    \"One_World_Trade_Center\": (40.7127, -74.0134),\n",
    "    \"High_Line\": (40.7479, -74.0049)\n",
    "}\n",
    "\n",
    "\n",
    "# Compute Haversine distance from each landmark\n",
    "for name, coord in landmarks.items():\n",
    "    df5[f'distance_from_{name}'] = df5.apply(lambda row: haversine((row['latitude'], row['longitude']), coord), axis=1)\n",
    "\n",
    "df_with_landmarks = df5.copy()"
   ]
  },
  {
   "cell_type": "code",
   "execution_count": 704,
   "id": "8c483159",
   "metadata": {},
   "outputs": [],
   "source": [
    "X = df5.drop(columns=[\"price\"])\n",
    "y = df5[\"price\"]\n",
    "\n",
    "X_train, X_test, y_train, y_test = train_test_split(X, y, test_size=0.2, random_state=42)\n",
    "\n",
    "model = LinearRegression()\n",
    "model.fit(X_train, y_train)\n",
    "y_pred = model.predict(X_test)"
   ]
  },
  {
   "cell_type": "code",
   "execution_count": 705,
   "id": "e477329d",
   "metadata": {},
   "outputs": [
    {
     "name": "stdout",
     "output_type": "stream",
     "text": [
      "R² Score: 0.5386\n",
      "Mean Absolute Error (MAE): 36.9662\n",
      "Root Mean Squared Error (RMSE): 46.3643\n"
     ]
    }
   ],
   "source": [
    "r2 = r2_score(y_test, y_pred)\n",
    "mae = mean_absolute_error(y_test, y_pred)\n",
    "rmse = sqrt(mean_squared_error(y_test, y_pred))\n",
    "\n",
    "print(f\"R² Score: {r2:.4f}\")\n",
    "print(f\"Mean Absolute Error (MAE): {mae:.4f}\")\n",
    "print(f\"Root Mean Squared Error (RMSE): {rmse:.4f}\")"
   ]
  },
  {
   "cell_type": "markdown",
   "id": "e82c1716-30e0-49da-974e-6b1aca1af04d",
   "metadata": {},
   "source": [
    "## Adding Derived Features"
   ]
  },
  {
   "cell_type": "markdown",
   "id": "d3d58279-73a1-45ec-9aac-7eaac5c7dde6",
   "metadata": {},
   "source": [
    "#### Room-related Features"
   ]
  },
  {
   "cell_type": "code",
   "execution_count": 687,
   "id": "c1264f28-d458-4e4e-bdde-794444d31c53",
   "metadata": {},
   "outputs": [],
   "source": [
    "df = df_with_landmarks.copy()"
   ]
  },
  {
   "cell_type": "code",
   "execution_count": 688,
   "id": "72f6a28e",
   "metadata": {},
   "outputs": [],
   "source": [
    "# Feature 1: Beds per Room\n",
    "df['beds_per_room'] = df['beds'] / (df['bedrooms'] + 1)  # Avoid division by zero\n",
    "\n",
    "# Feature 2: Bathrooms per Bedroom\n",
    "df['bathrooms_per_bedroom'] = df['bathrooms'] / (df['bedrooms'] + 1)\n",
    "\n",
    "# Feature 3: Guests per Bed\n",
    "df['guests_per_bed'] = df['accommodates'] / (df['beds'] + 1)\n",
    "\n",
    "# Feature 4: Guests per Bedroom\n",
    "df['guests_per_bedroom'] = df['accommodates'] / (df['bedrooms'] + 1)\n",
    "\n",
    "# Feature 5: Bathrooms per Guest\n",
    "df['bathrooms_per_guest'] = df['bathrooms'] / (df['accommodates'] + 1)\n",
    "\n",
    "df.fillna(0, inplace=True)"
   ]
  },
  {
   "cell_type": "code",
   "execution_count": 627,
   "id": "5dceba2a",
   "metadata": {},
   "outputs": [],
   "source": [
    "X = df.drop(columns=[\"price\"])\n",
    "y = df[\"price\"]\n",
    "\n",
    "X_train, X_test, y_train, y_test = train_test_split(X, y, test_size=0.2, random_state=42)\n",
    "\n",
    "model = LinearRegression()\n",
    "model.fit(X_train, y_train)\n",
    "y_pred = model.predict(X_test)"
   ]
  },
  {
   "cell_type": "code",
   "execution_count": 628,
   "id": "0efd449f",
   "metadata": {},
   "outputs": [
    {
     "name": "stdout",
     "output_type": "stream",
     "text": [
      "R² Score: 0.5478\n",
      "Mean Absolute Error (MAE): 36.4502\n",
      "Root Mean Squared Error (RMSE): 45.8989\n"
     ]
    }
   ],
   "source": [
    "r2 = r2_score(y_test, y_pred)\n",
    "mae = mean_absolute_error(y_test, y_pred)\n",
    "rmse = sqrt(mean_squared_error(y_test, y_pred))\n",
    "\n",
    "print(f\"R² Score: {r2:.4f}\")\n",
    "print(f\"Mean Absolute Error (MAE): {mae:.4f}\")\n",
    "print(f\"Root Mean Squared Error (RMSE): {rmse:.4f}\")"
   ]
  },
  {
   "cell_type": "markdown",
   "id": "a790bc61-908e-4e9d-8584-8442adc7d3c5",
   "metadata": {},
   "source": [
    "#### Geographical Features"
   ]
  },
  {
   "cell_type": "code",
   "execution_count": 629,
   "id": "9a27855c",
   "metadata": {},
   "outputs": [],
   "source": [
    "df = df_with_landmarks.copy()"
   ]
  },
  {
   "cell_type": "code",
   "execution_count": 689,
   "id": "feee8fa8",
   "metadata": {},
   "outputs": [],
   "source": [
    "# Feature 1: Listings per Neighbourhood\n",
    "df['listings_per_neighbourhood'] = df.groupby('neighbourhood_cleansed')['calculated_host_listings_count'].transform('sum')\n",
    "\n",
    "# Feature 2: Reviews per Neighbourhood\n",
    "df['reviews_per_neighbourhood'] = df.groupby('neighbourhood_cleansed')['number_of_reviews'].transform('mean')\n",
    "\n",
    "# Feature 3: Distance from City Center\n",
    "city_center_coords = (40.7580, -73.9855)\n",
    "df['distance_from_city_center'] = df.apply(lambda row: geodesic((row['latitude'], row['longitude']), city_center_coords).km, axis=1)\n",
    "\n",
    "# Feature 4: Neighbourhood Popularity Score\n",
    "df['neighbourhood_popularity'] = df['reviews_per_neighbourhood'] * df['listings_per_neighbourhood']\n",
    "\n",
    "# Feature 5: Room Density\n",
    "df['listings_per_neighbourhood_group'] = df.groupby('neighbourhood_group_cleansed')['calculated_host_listings_count'].transform('sum')\n",
    "\n",
    "# Feature 6: Average Price per Neighbourhood\n",
    "df['avg_price_neighbourhood'] = df.groupby('neighbourhood_cleansed')['price'].transform('mean')"
   ]
  },
  {
   "cell_type": "code",
   "execution_count": 631,
   "id": "e75981a4",
   "metadata": {},
   "outputs": [],
   "source": [
    "X = df.drop(columns=[\"price\"])\n",
    "y = df[\"price\"]\n",
    "\n",
    "X_train, X_test, y_train, y_test = train_test_split(X, y, test_size=0.2, random_state=42)\n",
    "\n",
    "model = LinearRegression()\n",
    "model.fit(X_train, y_train)\n",
    "y_pred = model.predict(X_test)"
   ]
  },
  {
   "cell_type": "code",
   "execution_count": 632,
   "id": "95c84967",
   "metadata": {},
   "outputs": [
    {
     "name": "stdout",
     "output_type": "stream",
     "text": [
      "R² Score: 0.5430\n",
      "Mean Absolute Error (MAE): 36.8363\n",
      "Root Mean Squared Error (RMSE): 46.1422\n"
     ]
    }
   ],
   "source": [
    "r2 = r2_score(y_test, y_pred)\n",
    "mae = mean_absolute_error(y_test, y_pred)\n",
    "rmse = sqrt(mean_squared_error(y_test, y_pred))\n",
    "\n",
    "print(f\"R² Score: {r2:.4f}\")\n",
    "print(f\"Mean Absolute Error (MAE): {mae:.4f}\")\n",
    "print(f\"Root Mean Squared Error (RMSE): {rmse:.4f}\")"
   ]
  },
  {
   "cell_type": "markdown",
   "id": "7b74f661-9138-4d9c-9d85-64d7aab5ed09",
   "metadata": {},
   "source": [
    "#### Review-based Features"
   ]
  },
  {
   "cell_type": "code",
   "execution_count": 706,
   "id": "0ed1bae2",
   "metadata": {},
   "outputs": [],
   "source": [
    "df = df_with_landmarks.copy()"
   ]
  },
  {
   "cell_type": "code",
   "execution_count": 707,
   "id": "9a3aa0bd",
   "metadata": {},
   "outputs": [],
   "source": [
    "# Feature 1: Log-transformed Reviews (Handles Skewness)\n",
    "df['log_reviews'] = df['number_of_reviews'].apply(lambda x: np.log1p(x))\n",
    "\n",
    "# Feature 2: Recent Reviews Intensity (Last 30 Days)\n",
    "df['reviews_last_30_days'] = df['number_of_reviews_l30d'] / (df['number_of_reviews'] + 1)\n",
    "\n",
    "# Feature 3: Review Growth Rate (Last 12 Months)\n",
    "df['review_growth_rate'] = (df['number_of_reviews_ltm'] + 1) / (df['number_of_reviews'] + 1)\n",
    "\n",
    "# Feature 4: Review Score Aggregation (Overall Rating)\n",
    "df['avg_review_score'] = df[['review_scores_rating', 'review_scores_accuracy', 'review_scores_cleanliness',\n",
    "                             'review_scores_checkin', 'review_scores_communication', 'review_scores_location',\n",
    "                             'review_scores_value']].mean(axis=1)\n",
    "\n",
    "# Feature 5: Review Sentiment Proxy (Binary Score)\n",
    "df['positive_reviews'] = (df['review_scores_rating'] >= 4.5).astype(int)\n",
    "\n",
    "# Feature 6: Review Variance (Guest Satisfaction Stability)\n",
    "df['review_variance'] = df[['review_scores_accuracy', 'review_scores_cleanliness',\n",
    "                            'review_scores_checkin', 'review_scores_communication',\n",
    "                            'review_scores_location', 'review_scores_value']].std(axis=1)\n",
    "\n",
    "# Feature 7: Time Since First Review (Longevity Indicator)\n",
    "df['days_since_first_review'] = (pd.to_datetime('today') - pd.to_datetime(df['first_review'])).dt.days\n",
    "\n",
    "# Feature 8: Time Since Last Review (Recent Activity Indicator)\n",
    "df['days_since_last_review'] = (pd.to_datetime('today') - pd.to_datetime(df['last_review'])).dt.days\n",
    "\n",
    "# Feature 9: Review Frequency (Total Reviews per Availability)\n",
    "df['review_frequency'] = df['number_of_reviews'] / (df['availability_365'] + 1)\n",
    "\n",
    "# Feature 14: Review-Based Demand in Neighbourhood\n",
    "df['reviews_per_neighbourhood'] = df.groupby('neighbourhood_cleansed')['number_of_reviews'].transform('mean')"
   ]
  },
  {
   "cell_type": "code",
   "execution_count": 708,
   "id": "964f3363",
   "metadata": {},
   "outputs": [],
   "source": [
    "X = df.drop(columns=[\"price\"])\n",
    "y = df[\"price\"]\n",
    "\n",
    "X_train, X_test, y_train, y_test = train_test_split(X, y, test_size=0.2, random_state=42)\n",
    "\n",
    "model = LinearRegression()\n",
    "model.fit(X_train, y_train)\n",
    "y_pred = model.predict(X_test)"
   ]
  },
  {
   "cell_type": "code",
   "execution_count": 709,
   "id": "50c44612",
   "metadata": {},
   "outputs": [
    {
     "name": "stdout",
     "output_type": "stream",
     "text": [
      "R² Score: 0.5446\n",
      "Mean Absolute Error (MAE): 36.7526\n",
      "Root Mean Squared Error (RMSE): 46.0620\n"
     ]
    }
   ],
   "source": [
    "r2 = r2_score(y_test, y_pred)\n",
    "mae = mean_absolute_error(y_test, y_pred)\n",
    "rmse = sqrt(mean_squared_error(y_test, y_pred))\n",
    "\n",
    "print(f\"R² Score: {r2:.4f}\")\n",
    "print(f\"Mean Absolute Error (MAE): {mae:.4f}\")\n",
    "print(f\"Root Mean Squared Error (RMSE): {rmse:.4f}\")"
   ]
  },
  {
   "cell_type": "markdown",
   "id": "46d46345-dc67-472e-9110-4a255a1cc2ea",
   "metadata": {},
   "source": [
    "#### Amentities-based Features"
   ]
  },
  {
   "cell_type": "code",
   "execution_count": 710,
   "id": "5ddadb44",
   "metadata": {},
   "outputs": [],
   "source": [
    "df = df_with_landmarks.copy()"
   ]
  },
  {
   "cell_type": "code",
   "execution_count": 711,
   "id": "4710b990",
   "metadata": {},
   "outputs": [],
   "source": [
    "# Feature 1: Total Number of Amenities (Luxury & Convenience Score)\n",
    "df['total_amenities'] = df[['Wi-Fi', 'Kitchen', 'Air conditioning', 'Heating', 'Pool', 'Gym', \n",
    "                            'Free parking', 'TV', 'Laptop-friendly workspace', 'Smoke alarm', \n",
    "                            'Carbon monoxide alarm', 'First aid kit', 'Washer', 'Dryer', \n",
    "                            'Dishwasher', 'Hot tub', 'Netflix', 'Hulu', 'Pet-friendly', \n",
    "                            'Elevator', 'Wheelchair Accessible', 'Balcony', 'BBQ grill', \n",
    "                            'Beachfront']].sum(axis=1)\n",
    "\n",
    "# Feature 2: Entertainment Score (Availability of Streaming Services & TV)\n",
    "df['entertainment_score'] = df[['TV', 'Netflix', 'Hulu']].sum(axis=1)\n",
    "\n",
    "# Feature 3: Safety Score (Availability of Safety-Related Amenities)\n",
    "df['safety_score'] = df[['Smoke alarm', 'Carbon monoxide alarm', 'First aid kit']].sum(axis=1)\n",
    "\n",
    "# Feature 4: Luxury Score (Premium Features like Pool, Gym, Hot Tub, Beachfront)\n",
    "df['luxury_score'] = df[['Pool', 'Gym', 'Hot tub', 'Beachfront']].sum(axis=1)\n",
    "\n",
    "# Feature 5: Accessibility Score (Features Supporting Mobility Needs)\n",
    "df['accessibility_score'] = df[['Elevator', 'Wheelchair Accessible']].sum(axis=1)\n",
    "\n",
    "# Feature 6: Work-Friendly Score (Remote Work Essentials)\n",
    "df['work_friendly_score'] = df[['Wi-Fi', 'Laptop-friendly workspace']].sum(axis=1)\n",
    "\n",
    "# Feature 7: Pet-Friendly Indicator (Whether Pets are Allowed)\n",
    "df['is_pet_friendly'] = df['Pet-friendly'].astype(int)\n",
    "\n",
    "# Feature 8: Essential Utilities Score (Basic Comfort Features)\n",
    "df['essential_utilities_score'] = df[['Heating', 'Air conditioning', 'Kitchen']].sum(axis=1)"
   ]
  },
  {
   "cell_type": "code",
   "execution_count": 712,
   "id": "033acb22",
   "metadata": {},
   "outputs": [],
   "source": [
    "X = df.drop(columns=[\"price\"])\n",
    "y = df[\"price\"]\n",
    "\n",
    "X_train, X_test, y_train, y_test = train_test_split(X, y, test_size=0.2, random_state=42)\n",
    "\n",
    "model = LinearRegression()\n",
    "model.fit(X_train, y_train)\n",
    "y_pred = model.predict(X_test)"
   ]
  },
  {
   "cell_type": "code",
   "execution_count": 713,
   "id": "2a48d0fa",
   "metadata": {},
   "outputs": [
    {
     "name": "stdout",
     "output_type": "stream",
     "text": [
      "R² Score: 0.5389\n",
      "Mean Absolute Error (MAE): 36.9542\n",
      "Root Mean Squared Error (RMSE): 46.3511\n"
     ]
    }
   ],
   "source": [
    "r2 = r2_score(y_test, y_pred)\n",
    "mae = mean_absolute_error(y_test, y_pred)\n",
    "rmse = sqrt(mean_squared_error(y_test, y_pred))\n",
    "\n",
    "print(f\"R² Score: {r2:.4f}\")\n",
    "print(f\"Mean Absolute Error (MAE): {mae:.4f}\")\n",
    "print(f\"Root Mean Squared Error (RMSE): {rmse:.4f}\")"
   ]
  },
  {
   "cell_type": "markdown",
   "id": "2c43916a-5d4e-4f80-b6b0-2dd9881be82b",
   "metadata": {},
   "source": [
    "## With All Derived Features"
   ]
  },
  {
   "cell_type": "code",
   "execution_count": 718,
   "id": "8b78eea1",
   "metadata": {},
   "outputs": [],
   "source": [
    "df = df_with_landmarks.copy()"
   ]
  },
  {
   "cell_type": "code",
   "execution_count": 719,
   "id": "259b353a-6b78-487d-8192-c745d3d12af5",
   "metadata": {},
   "outputs": [],
   "source": [
    "df['beds_per_room'] = df['beds'] / (df['bedrooms'] + 1)  # Avoid division by zero\n",
    "df['bathrooms_per_bedroom'] = df['bathrooms'] / (df['bedrooms'] + 1)\n",
    "df['guests_per_bed'] = df['accommodates'] / (df['beds'] + 1)\n",
    "df['guests_per_bedroom'] = df['accommodates'] / (df['bedrooms'] + 1)\n",
    "df['bathrooms_per_guest'] = df['bathrooms'] / (df['accommodates'] + 1)\n",
    "df.fillna(0, inplace=True)\n",
    "\n",
    "df['listings_per_neighbourhood'] = df.groupby('neighbourhood_cleansed')['calculated_host_listings_count'].transform('sum')\n",
    "df['reviews_per_neighbourhood'] = df.groupby('neighbourhood_cleansed')['number_of_reviews'].transform('mean')\n",
    "city_center_coords = (40.7580, -73.9855)\n",
    "df['distance_from_city_center'] = df.apply(lambda row: geodesic((row['latitude'], row['longitude']), city_center_coords).km, axis=1)\n",
    "df['neighbourhood_popularity'] = df['reviews_per_neighbourhood'] * df['listings_per_neighbourhood']\n",
    "df['listings_per_neighbourhood_group'] = df.groupby('neighbourhood_group_cleansed')['calculated_host_listings_count'].transform('sum')\n",
    "df['avg_price_neighbourhood'] = df.groupby('neighbourhood_cleansed')['price'].transform('mean')\n",
    "\n",
    "df['log_reviews'] = df['number_of_reviews'].apply(lambda x: np.log1p(x))\n",
    "df['reviews_last_30_days'] = df['number_of_reviews_l30d'] / (df['number_of_reviews'] + 1)\n",
    "df['review_growth_rate'] = (df['number_of_reviews_ltm'] + 1) / (df['number_of_reviews'] + 1)\n",
    "df['avg_review_score'] = df[['review_scores_rating', 'review_scores_accuracy', 'review_scores_cleanliness',\n",
    "                             'review_scores_checkin', 'review_scores_communication', 'review_scores_location',\n",
    "                             'review_scores_value']].mean(axis=1)\n",
    "df['positive_reviews'] = (df['review_scores_rating'] >= 4.5).astype(int)\n",
    "df['review_variance'] = df[['review_scores_accuracy', 'review_scores_cleanliness',\n",
    "                            'review_scores_checkin', 'review_scores_communication',\n",
    "                            'review_scores_location', 'review_scores_value']].std(axis=1)\n",
    "df['days_since_first_review'] = (pd.to_datetime('today') - pd.to_datetime(df['first_review'])).dt.days\n",
    "df['days_since_last_review'] = (pd.to_datetime('today') - pd.to_datetime(df['last_review'])).dt.days\n",
    "df['review_frequency'] = df['number_of_reviews'] / (df['availability_365'] + 1)\n",
    "df['reviews_per_neighbourhood'] = df.groupby('neighbourhood_cleansed')['number_of_reviews'].transform('mean')\n",
    "\n",
    "df['total_amenities'] = df[['Wi-Fi', 'Kitchen', 'Air conditioning', 'Heating', 'Pool', 'Gym', \n",
    "                            'Free parking', 'TV', 'Laptop-friendly workspace', 'Smoke alarm', \n",
    "                            'Carbon monoxide alarm', 'First aid kit', 'Washer', 'Dryer', \n",
    "                            'Dishwasher', 'Hot tub', 'Netflix', 'Hulu', 'Pet-friendly', \n",
    "                            'Elevator', 'Wheelchair Accessible', 'Balcony', 'BBQ grill', \n",
    "                            'Beachfront']].sum(axis=1)\n",
    "df['entertainment_score'] = df[['TV', 'Netflix', 'Hulu']].sum(axis=1)\n",
    "df['safety_score'] = df[['Smoke alarm', 'Carbon monoxide alarm', 'First aid kit']].sum(axis=1)\n",
    "df['luxury_score'] = df[['Pool', 'Gym', 'Hot tub', 'Beachfront']].sum(axis=1)\n",
    "df['accessibility_score'] = df[['Elevator', 'Wheelchair Accessible']].sum(axis=1)\n",
    "df['work_friendly_score'] = df[['Wi-Fi', 'Laptop-friendly workspace']].sum(axis=1)\n",
    "df['is_pet_friendly'] = df['Pet-friendly'].astype(int)\n",
    "df['essential_utilities_score'] = df[['Heating', 'Air conditioning', 'Kitchen']].sum(axis=1)"
   ]
  },
  {
   "cell_type": "code",
   "execution_count": 720,
   "id": "0702db98",
   "metadata": {},
   "outputs": [],
   "source": [
    "X = df.drop(columns=[\"price\"])\n",
    "y = df[\"price\"]\n",
    "\n",
    "X_train, X_test, y_train, y_test = train_test_split(X, y, test_size=0.2, random_state=42)\n",
    "\n",
    "model = LinearRegression()\n",
    "model.fit(X_train, y_train)\n",
    "y_pred = model.predict(X_test)"
   ]
  },
  {
   "cell_type": "code",
   "execution_count": 721,
   "id": "8c4de805",
   "metadata": {},
   "outputs": [
    {
     "name": "stdout",
     "output_type": "stream",
     "text": [
      "R² Score: 0.5566\n",
      "Mean Absolute Error (MAE): 36.1693\n",
      "Root Mean Squared Error (RMSE): 45.4492\n"
     ]
    }
   ],
   "source": [
    "r2 = r2_score(y_test, y_pred)\n",
    "mae = mean_absolute_error(y_test, y_pred)\n",
    "rmse = sqrt(mean_squared_error(y_test, y_pred))\n",
    "\n",
    "print(f\"R² Score: {r2:.4f}\")\n",
    "print(f\"Mean Absolute Error (MAE): {mae:.4f}\")\n",
    "print(f\"Root Mean Squared Error (RMSE): {rmse:.4f}\")"
   ]
  },
  {
   "cell_type": "code",
   "execution_count": null,
   "id": "9e3250eb-fdf1-4879-9ef7-7ac689c7372b",
   "metadata": {},
   "outputs": [],
   "source": []
  },
  {
   "cell_type": "code",
   "execution_count": null,
   "id": "4bd62e09-e3fd-42fc-b1a5-4174f0271256",
   "metadata": {},
   "outputs": [],
   "source": []
  }
 ],
 "metadata": {
  "kernelspec": {
   "display_name": "Python 3 (ipykernel)",
   "language": "python",
   "name": "python3"
  },
  "language_info": {
   "codemirror_mode": {
    "name": "ipython",
    "version": 3
   },
   "file_extension": ".py",
   "mimetype": "text/x-python",
   "name": "python",
   "nbconvert_exporter": "python",
   "pygments_lexer": "ipython3",
   "version": "3.12.2"
  }
 },
 "nbformat": 4,
 "nbformat_minor": 5
}
